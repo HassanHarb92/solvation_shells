{
 "cells": [
  {
   "cell_type": "code",
   "execution_count": 7,
   "id": "492f766b",
   "metadata": {},
   "outputs": [
    {
     "name": "stdout",
     "output_type": "stream",
     "text": [
      "\u001b[1;33m[Open3D WARNING] GLFW Error: Cocoa: Failed to find service port for display\u001b[0;m\n",
      "\u001b[1;33m[Open3D WARNING] GLFW Error: Cocoa: Failed to find service port for display\u001b[0;m\n"
     ]
    }
   ],
   "source": [
    "import numpy as np\n",
    "from scipy.spatial import ConvexHull\n",
    "import open3d as o3d\n",
    "\n",
    "# Function to compute the convex hull\n",
    "def compute_convex_hull(points):\n",
    "    hull = ConvexHull(points)\n",
    "    vertices = points[hull.vertices]\n",
    "    faces = hull.simplices\n",
    "    return vertices, faces, hull.vertices\n",
    "\n",
    "# Function to smooth the mesh using Laplacian smoothing\n",
    "def laplacian_smoothing(vertices, faces, iterations=10, lambda_factor=0.5):\n",
    "    # Create an adjacency list\n",
    "    adjacency_list = {i: set() for i in range(len(vertices))}\n",
    "    for face in faces:\n",
    "        for i, j in zip(face, np.roll(face, -1)):\n",
    "            adjacency_list[i].add(j)\n",
    "            adjacency_list[j].add(i)\n",
    "    \n",
    "    for _ in range(iterations):\n",
    "        new_vertices = np.copy(vertices)\n",
    "        for i in range(len(vertices)):\n",
    "            neighbors = np.array([vertices[j] for j in adjacency_list[i]])\n",
    "            new_vertices[i] = vertices[i] + lambda_factor * (np.mean(neighbors, axis=0) - vertices[i])\n",
    "        vertices = new_vertices\n",
    "    return vertices\n",
    "\n",
    "# Function to create Open3D mesh from vertices and faces\n",
    "def create_mesh(vertices, faces):\n",
    "    mesh = o3d.geometry.TriangleMesh()\n",
    "    mesh.vertices = o3d.utility.Vector3dVector(vertices)\n",
    "    mesh.triangles = o3d.utility.Vector3iVector(faces)\n",
    "    mesh.compute_vertex_normals()\n",
    "    return mesh\n",
    "\n",
    "# Sample points (replace this with your own points)\n",
    "points = np.random.rand(30, 3) * 10\n",
    "\n",
    "# Compute the convex hull\n",
    "vertices, faces, vertex_indices = compute_convex_hull(points)\n",
    "\n",
    "# Map faces to vertex indices\n",
    "mapped_faces = np.array([[np.where(vertex_indices == idx)[0][0] for idx in face] for face in faces])\n",
    "\n",
    "# Apply Laplacian smoothing\n",
    "smoothed_vertices = laplacian_smoothing(vertices, mapped_faces)\n",
    "\n",
    "# Create Open3D mesh for visualization (optional)\n",
    "mesh = create_mesh(smoothed_vertices, mapped_faces)\n",
    "\n",
    "# Visualize the original and smoothed convex hulls\n",
    "o3d.visualization.draw_geometries([mesh], window_name='Smoothed Convex Hull')\n"
   ]
  },
  {
   "cell_type": "code",
   "execution_count": 1,
   "id": "0634fe5a",
   "metadata": {},
   "outputs": [
    {
     "name": "stdout",
     "output_type": "stream",
     "text": [
      "\u001b[1;33m[Open3D WARNING] GLFW Error: Cocoa: Failed to find service port for display\u001b[0;m\n",
      "\u001b[1;33m[Open3D WARNING] GLFW Error: Cocoa: Failed to find service port for display\u001b[0;m\n"
     ]
    }
   ],
   "source": [
    "\n",
    "import numpy as np\n",
    "from scipy.spatial import ConvexHull\n",
    "import open3d as o3d\n",
    "\n",
    "# Function to compute the convex hull\n",
    "def compute_convex_hull(points):\n",
    "    hull = ConvexHull(points)\n",
    "    vertices = points[hull.vertices]\n",
    "    faces = hull.simplices\n",
    "    return vertices, faces, hull.vertices\n",
    "\n",
    "# Function to smooth the mesh using Laplacian smoothing\n",
    "def laplacian_smoothing(vertices, faces, iterations=50, lambda_factor=0.5):\n",
    "    # Create an adjacency list\n",
    "    adjacency_list = {i: set() for i in range(len(vertices))}\n",
    "    for face in faces:\n",
    "        for i, j in zip(face, np.roll(face, -1)):\n",
    "            adjacency_list[i].add(j)\n",
    "            adjacency_list[j].add(i)\n",
    "    \n",
    "    for _ in range(iterations):\n",
    "        new_vertices = np.copy(vertices)\n",
    "        for i in range(len(vertices)):\n",
    "            neighbors = np.array([vertices[j] for j in adjacency_list[i]])\n",
    "            new_vertices[i] = vertices[i] + lambda_factor * (np.mean(neighbors, axis=0) - vertices[i])\n",
    "        vertices = new_vertices\n",
    "    return vertices\n",
    "\n",
    "# Function to create Open3D mesh from vertices and faces\n",
    "def create_mesh(vertices, faces):\n",
    "    mesh = o3d.geometry.TriangleMesh()\n",
    "    mesh.vertices = o3d.utility.Vector3dVector(vertices)\n",
    "    mesh.triangles = o3d.utility.Vector3iVector(faces)\n",
    "    mesh.compute_vertex_normals()\n",
    "    return mesh\n",
    "\n",
    "# Sample points (replace this with your own points)\n",
    "points = np.random.rand(30, 3) * 10\n",
    "\n",
    "# Compute the convex hull\n",
    "vertices, faces, vertex_indices = compute_convex_hull(points)\n",
    "\n",
    "# Map faces to vertex indices\n",
    "mapped_faces = np.array([[np.where(vertex_indices == idx)[0][0] for idx in face] for face in faces])\n",
    "\n",
    "# Apply Laplacian smoothing with increased iterations\n",
    "smoothed_vertices = laplacian_smoothing(vertices, mapped_faces, iterations=100, lambda_factor=0.4)\n",
    "\n",
    "# Create Open3D mesh for visualization (optional)\n",
    "mesh = create_mesh(smoothed_vertices, mapped_faces)\n",
    "\n",
    "# Visualize the original and smoothed convex hulls\n",
    "o3d.visualization.draw_geometries([mesh], window_name='Highly Smoothed Convex Hull')\n"
   ]
  },
  {
   "cell_type": "code",
   "execution_count": null,
   "id": "37d689d7",
   "metadata": {},
   "outputs": [],
   "source": []
  }
 ],
 "metadata": {
  "kernelspec": {
   "display_name": "Python 3 (ipykernel)",
   "language": "python",
   "name": "python3"
  },
  "language_info": {
   "codemirror_mode": {
    "name": "ipython",
    "version": 3
   },
   "file_extension": ".py",
   "mimetype": "text/x-python",
   "name": "python",
   "nbconvert_exporter": "python",
   "pygments_lexer": "ipython3",
   "version": "3.9.12"
  }
 },
 "nbformat": 4,
 "nbformat_minor": 5
}
